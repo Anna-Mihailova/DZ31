{
 "cells": [
  {
   "cell_type": "code",
   "execution_count": 1,
   "id": "6c1cd4d1",
   "metadata": {},
   "outputs": [
    {
     "name": "stdout",
     "output_type": "stream",
     "text": [
      "C:\\Users\\a.mihailova\n",
      "Выберите действие:\n",
      " 1. Создать папку\n",
      " 2. Удалить папку/файл\n",
      " 3. Переместить\n",
      " 4. Скопировать файл/папку\n",
      " 5. Скопировать папку\n",
      " 6. Выйти\n",
      "5\n",
      "Укажите путь папки, куда нужно скопировать\n",
      "C:\\Users\\a.mihailova\\Загрузки\n",
      "Укажите имя папки, котороую нужно скопировать\n",
      "Svetets\n",
      "Данные скопированы\n",
      "Выберите действие:\n",
      " 1. Создать папку\n",
      " 2. Удалить папку/файл\n",
      " 3. Переместить\n",
      " 4. Скопировать файл/папку\n",
      " 5. Скопировать папку\n",
      " 6. Выйти\n",
      "6\n",
      "Работы окончены\n"
     ]
    }
   ],
   "source": [
    "import os\n",
    "import shutil\n",
    "\n",
    "print(os.getcwd())\n",
    "\n",
    "print('Выберите действие:\\n 1. Создать папку\\n 2. Удалить папку/файл\\n 3. Переместить\\n 4. Скопировать файл/папку\\n 5. Скопировать папку\\n 6. Выйти')\n",
    "vbor = int(input())\n",
    "\n",
    "while(vbor!=6):\n",
    "    \n",
    "    match vbor:\n",
    "        case 1:\n",
    "            print('Укажите имя папки для создания')\n",
    "            papka = str(input())\n",
    "            os.mkdir(papka)\n",
    "            print('Папка создана')\n",
    "        case 2:\n",
    "            print('Укажите имя папки для удаления')\n",
    "            papka = str(input())\n",
    "            os.rmdir(papka)\n",
    "            print('Папка удалена')\n",
    "        case 3:\n",
    "            print('Укажите имя папки, куда нужно переместить')\n",
    "            papka = str(input())\n",
    "            print('Укажите имя папки/файла, которую нужно переместить')\n",
    "            name = str(input())\n",
    "            shutil.move(name, papka)\n",
    "            print('Данные перемещены')\n",
    "        case 4:\n",
    "            print('Укажите имя папки, куда нужно скопировать')\n",
    "            papka = str(input())\n",
    "            print('Укажите имя файла, который нужно скопировать')\n",
    "            name = str(input())\n",
    "            shutil.copy2(name, papka)\n",
    "            print('Данные скопированы')\n",
    "        case 5:\n",
    "            print('Укажите путь папки, куда нужно скопировать')\n",
    "            put1 = str(input())\n",
    "            print('Укажите имя папки, котороую нужно скопировать')\n",
    "            papka = str(input())\n",
    "                        \n",
    "            shutil.copytree(papka, put1 + '/' + papka, dirs_exist_ok = True)\n",
    "            print('Данные скопированы')\n",
    "    print('Выберите действие:\\n 1. Создать папку\\n 2. Удалить папку/файл\\n 3. Переместить\\n 4. Скопировать файл/папку\\n 5. Скопировать папку\\n 6. Выйти')\n",
    "    vbor = int(input())\n",
    "print(\"Работы окончены\")"
   ]
  },
  {
   "cell_type": "code",
   "execution_count": null,
   "id": "3ccfd5f7",
   "metadata": {},
   "outputs": [],
   "source": []
  }
 ],
 "metadata": {
  "kernelspec": {
   "display_name": "Python 3 (ipykernel)",
   "language": "python",
   "name": "python3"
  },
  "language_info": {
   "codemirror_mode": {
    "name": "ipython",
    "version": 3
   },
   "file_extension": ".py",
   "mimetype": "text/x-python",
   "name": "python",
   "nbconvert_exporter": "python",
   "pygments_lexer": "ipython3",
   "version": "3.11.5"
  }
 },
 "nbformat": 4,
 "nbformat_minor": 5
}
